{
  "cells": [
    {
      "cell_type": "markdown",
      "metadata": {},
      "source": [
        "Library"
      ]
    },
    {
      "cell_type": "code",
      "execution_count": null,
      "metadata": {
        "id": "hUUnh08BAyoO"
      },
      "outputs": [],
      "source": [
        "import tensorflow as tf\n",
        "import pandas as pd\n",
        "import numpy as np"
      ]
    },
    {
      "cell_type": "markdown",
      "metadata": {},
      "source": [
        "Import Data"
      ]
    },
    {
      "cell_type": "code",
      "execution_count": null,
      "metadata": {
        "id": "QwqzYGmhCAg9"
      },
      "outputs": [],
      "source": [
        "data_csv = pd.read_csv('data.csv')"
      ]
    },
    {
      "cell_type": "code",
      "execution_count": null,
      "metadata": {
        "colab": {
          "base_uri": "https://localhost:8080/"
        },
        "id": "TfxsfqRJhwSX",
        "outputId": "8b24550b-19a0-4699-9d0e-2241fe93820c"
      },
      "outputs": [],
      "source": [
        "print(data_csv)"
      ]
    },
    {
      "cell_type": "markdown",
      "metadata": {},
      "source": [
        "Ambil Data"
      ]
    },
    {
      "cell_type": "code",
      "execution_count": null,
      "metadata": {
        "id": "qgVyX0Y9h1Q5"
      },
      "outputs": [],
      "source": [
        "bedrooms = data_csv[\"bedrooms\"]\n",
        "bathrooms = data_csv[\"bathrooms\"]\n",
        "luas = data_csv[\"sqft_living\"]\n",
        "floor = data_csv[\"floors\"]\n",
        "price = data_csv[\"price\"]"
      ]
    },
    {
      "cell_type": "markdown",
      "metadata": {},
      "source": [
        "Mengumpulkan Data"
      ]
    },
    {
      "cell_type": "code",
      "execution_count": null,
      "metadata": {
        "id": "NCrPjnxKjw6-"
      },
      "outputs": [],
      "source": [
        "rumah_all = []\n",
        "\n",
        "for index in range (len(bedrooms)):\n",
        "  rumah = []\n",
        "  rumah.append(bedrooms[index])\n",
        "  rumah.append(bathrooms[index])\n",
        "  rumah.append(luas[index])\n",
        "  rumah.append(floor[index])\n",
        "\n",
        "  rumah_all.append(rumah)"
      ]
    },
    {
      "cell_type": "code",
      "execution_count": null,
      "metadata": {
        "colab": {
          "base_uri": "https://localhost:8080/"
        },
        "id": "ebOyDwQBkfbK",
        "outputId": "e4931a9f-8618-42d5-8326-4dc065f8428d"
      },
      "outputs": [],
      "source": [
        "print(rumah_all)\n",
        "rumah_all = np.array(rumah_all)\n",
        "price = np.array(price)"
      ]
    },
    {
      "cell_type": "markdown",
      "metadata": {},
      "source": [
        "Model"
      ]
    },
    {
      "cell_type": "code",
      "execution_count": null,
      "metadata": {
        "id": "0etMEBl7qMDH"
      },
      "outputs": [],
      "source": [
        "model = tf.keras.models.Sequential([\n",
        "    tf.keras.layers.Dense(units = 1, input_shape = [4])\n",
        "])"
      ]
    },
    {
      "cell_type": "code",
      "execution_count": null,
      "metadata": {
        "id": "eXVmedNSrCTJ"
      },
      "outputs": [],
      "source": [
        "model.compile(\n",
        "    loss='mae',\n",
        "    optimizer='sgd',\n",
        "    metrics=['accuracy']\n",
        ")"
      ]
    },
    {
      "cell_type": "code",
      "execution_count": null,
      "metadata": {
        "colab": {
          "base_uri": "https://localhost:8080/"
        },
        "id": "3K_-vMeRrr7J",
        "outputId": "2f64dc3f-c235-4fee-c425-cb818e1e0ac1"
      },
      "outputs": [],
      "source": [
        "model.fit(\n",
        "    rumah_all, price, epochs=100\n",
        ")"
      ]
    },
    {
      "cell_type": "markdown",
      "metadata": {},
      "source": [
        "Input Data"
      ]
    },
    {
      "cell_type": "code",
      "execution_count": null,
      "metadata": {
        "colab": {
          "base_uri": "https://localhost:8080/"
        },
        "collapsed": true,
        "id": "ji7WZpNxu_sq",
        "outputId": "a4d3bc80-8df0-4451-d6a5-1229e0a42192"
      },
      "outputs": [],
      "source": [
        "kamar_tidur = int(input(\"Jumlah kamar tidur: \"))\n",
        "kamar_mandi = int(input(\"Jumlah kamar mandi: \"))\n",
        "luas_rumah = int(input(\"Luas rumah: \"))\n",
        "jumlah_lantai = int(input(\"Jumlah lantai: \"))"
      ]
    },
    {
      "cell_type": "markdown",
      "metadata": {},
      "source": [
        "Output prediksi harga"
      ]
    },
    {
      "cell_type": "code",
      "execution_count": null,
      "metadata": {
        "colab": {
          "base_uri": "https://localhost:8080/"
        },
        "collapsed": true,
        "id": "oqhRSfGevpXD",
        "outputId": "ab304ce8-0e37-45db-ce2c-91f4b28dc411"
      },
      "outputs": [],
      "source": [
        "prediksi_harga = model.predict([[kamar_tidur, kamar_mandi, luas_rumah, jumlah_lantai]])\n",
        "print(\"Harga rumah:  {} USD\".format(prediksi_harga))"
      ]
    }
  ],
  "metadata": {
    "colab": {
      "provenance": []
    },
    "kernelspec": {
      "display_name": "Python 3",
      "name": "python3"
    },
    "language_info": {
      "name": "python"
    }
  },
  "nbformat": 4,
  "nbformat_minor": 0
}
